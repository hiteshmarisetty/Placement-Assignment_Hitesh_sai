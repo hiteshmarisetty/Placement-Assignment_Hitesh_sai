{
 "cells": [
  {
   "cell_type": "markdown",
   "id": "a0789f9e",
   "metadata": {},
   "source": [
    "# Question_9_Solution:"
   ]
  },
  {
   "cell_type": "markdown",
   "id": "c29473e1",
   "metadata": {},
   "source": [
    "for 9 question i didnot upload data set it exceeds size please understand"
   ]
  },
  {
   "cell_type": "code",
   "execution_count": 22,
   "id": "ac94410f",
   "metadata": {},
   "outputs": [],
   "source": [
    "import pandas as pd \n",
    "import matplotlib.pyplot as plt\n",
    "import requests"
   ]
  },
  {
   "cell_type": "code",
   "execution_count": 23,
   "id": "16802449",
   "metadata": {},
   "outputs": [
    {
     "data": {
      "text/html": [
       "<div>\n",
       "<style scoped>\n",
       "    .dataframe tbody tr th:only-of-type {\n",
       "        vertical-align: middle;\n",
       "    }\n",
       "\n",
       "    .dataframe tbody tr th {\n",
       "        vertical-align: top;\n",
       "    }\n",
       "\n",
       "    .dataframe thead th {\n",
       "        text-align: right;\n",
       "    }\n",
       "</style>\n",
       "<table border=\"1\" class=\"dataframe\">\n",
       "  <thead>\n",
       "    <tr style=\"text-align: right;\">\n",
       "      <th></th>\n",
       "      <th>VIN (1-10)</th>\n",
       "      <th>County</th>\n",
       "      <th>City</th>\n",
       "      <th>State</th>\n",
       "      <th>Postal Code</th>\n",
       "      <th>Model Year</th>\n",
       "      <th>Make</th>\n",
       "      <th>Model</th>\n",
       "      <th>Electric Vehicle Type</th>\n",
       "      <th>Clean Alternative Fuel Vehicle (CAFV) Eligibility</th>\n",
       "      <th>Electric Range</th>\n",
       "      <th>Base MSRP</th>\n",
       "      <th>Legislative District</th>\n",
       "      <th>DOL Vehicle ID</th>\n",
       "      <th>Vehicle Location</th>\n",
       "      <th>Electric Utility</th>\n",
       "      <th>2020 Census Tract</th>\n",
       "    </tr>\n",
       "  </thead>\n",
       "  <tbody>\n",
       "    <tr>\n",
       "      <th>0</th>\n",
       "      <td>5YJXCAE26J</td>\n",
       "      <td>Yakima</td>\n",
       "      <td>Yakima</td>\n",
       "      <td>WA</td>\n",
       "      <td>98908.0</td>\n",
       "      <td>2018</td>\n",
       "      <td>TESLA</td>\n",
       "      <td>MODEL X</td>\n",
       "      <td>Battery Electric Vehicle (BEV)</td>\n",
       "      <td>Clean Alternative Fuel Vehicle Eligible</td>\n",
       "      <td>238</td>\n",
       "      <td>0</td>\n",
       "      <td>14.0</td>\n",
       "      <td>141151601</td>\n",
       "      <td>POINT (-120.56916 46.58514)</td>\n",
       "      <td>PACIFICORP</td>\n",
       "      <td>5.307700e+10</td>\n",
       "    </tr>\n",
       "    <tr>\n",
       "      <th>1</th>\n",
       "      <td>JHMZC5F37M</td>\n",
       "      <td>Kitsap</td>\n",
       "      <td>Poulsbo</td>\n",
       "      <td>WA</td>\n",
       "      <td>98370.0</td>\n",
       "      <td>2021</td>\n",
       "      <td>HONDA</td>\n",
       "      <td>CLARITY</td>\n",
       "      <td>Plug-in Hybrid Electric Vehicle (PHEV)</td>\n",
       "      <td>Clean Alternative Fuel Vehicle Eligible</td>\n",
       "      <td>47</td>\n",
       "      <td>0</td>\n",
       "      <td>23.0</td>\n",
       "      <td>171566447</td>\n",
       "      <td>POINT (-122.64681 47.73689)</td>\n",
       "      <td>PUGET SOUND ENERGY INC</td>\n",
       "      <td>5.303509e+10</td>\n",
       "    </tr>\n",
       "  </tbody>\n",
       "</table>\n",
       "</div>"
      ],
      "text/plain": [
       "   VIN (1-10)  County     City State  Postal Code  Model Year   Make    Model  \\\n",
       "0  5YJXCAE26J  Yakima   Yakima    WA      98908.0        2018  TESLA  MODEL X   \n",
       "1  JHMZC5F37M  Kitsap  Poulsbo    WA      98370.0        2021  HONDA  CLARITY   \n",
       "\n",
       "                    Electric Vehicle Type  \\\n",
       "0          Battery Electric Vehicle (BEV)   \n",
       "1  Plug-in Hybrid Electric Vehicle (PHEV)   \n",
       "\n",
       "  Clean Alternative Fuel Vehicle (CAFV) Eligibility  Electric Range  \\\n",
       "0           Clean Alternative Fuel Vehicle Eligible             238   \n",
       "1           Clean Alternative Fuel Vehicle Eligible              47   \n",
       "\n",
       "   Base MSRP  Legislative District  DOL Vehicle ID  \\\n",
       "0          0                  14.0       141151601   \n",
       "1          0                  23.0       171566447   \n",
       "\n",
       "              Vehicle Location        Electric Utility  2020 Census Tract  \n",
       "0  POINT (-120.56916 46.58514)              PACIFICORP       5.307700e+10  \n",
       "1  POINT (-122.64681 47.73689)  PUGET SOUND ENERGY INC       5.303509e+10  "
      ]
     },
     "execution_count": 23,
     "metadata": {},
     "output_type": "execute_result"
    }
   ],
   "source": [
    "# Loading Data from given link in question:\n",
    "df = pd.read_csv('Electric_Vehicle_Population_Data.csv')\n",
    "df.head(2)"
   ]
  },
  {
   "cell_type": "code",
   "execution_count": 24,
   "id": "ab9df731",
   "metadata": {},
   "outputs": [
    {
     "data": {
      "text/plain": [
       "(130443, 17)"
      ]
     },
     "execution_count": 24,
     "metadata": {},
     "output_type": "execute_result"
    }
   ],
   "source": [
    "df.shape"
   ]
  },
  {
   "cell_type": "code",
   "execution_count": 25,
   "id": "66e30bf7",
   "metadata": {},
   "outputs": [
    {
     "data": {
      "text/plain": [
       "Index(['VIN (1-10)', 'County', 'City', 'State', 'Postal Code', 'Model Year',\n",
       "       'Make', 'Model', 'Electric Vehicle Type',\n",
       "       'Clean Alternative Fuel Vehicle (CAFV) Eligibility', 'Electric Range',\n",
       "       'Base MSRP', 'Legislative District', 'DOL Vehicle ID',\n",
       "       'Vehicle Location', 'Electric Utility', '2020 Census Tract'],\n",
       "      dtype='object')"
      ]
     },
     "execution_count": 25,
     "metadata": {},
     "output_type": "execute_result"
    }
   ],
   "source": [
    "df.columns"
   ]
  },
  {
   "cell_type": "code",
   "execution_count": 26,
   "id": "ce3b2362",
   "metadata": {},
   "outputs": [
    {
     "name": "stdout",
     "output_type": "stream",
     "text": [
      "<class 'pandas.core.frame.DataFrame'>\n",
      "RangeIndex: 130443 entries, 0 to 130442\n",
      "Data columns (total 17 columns):\n",
      " #   Column                                             Non-Null Count   Dtype  \n",
      "---  ------                                             --------------   -----  \n",
      " 0   VIN (1-10)                                         130443 non-null  object \n",
      " 1   County                                             130440 non-null  object \n",
      " 2   City                                               130440 non-null  object \n",
      " 3   State                                              130443 non-null  object \n",
      " 4   Postal Code                                        130440 non-null  float64\n",
      " 5   Model Year                                         130443 non-null  int64  \n",
      " 6   Make                                               130443 non-null  object \n",
      " 7   Model                                              130221 non-null  object \n",
      " 8   Electric Vehicle Type                              130443 non-null  object \n",
      " 9   Clean Alternative Fuel Vehicle (CAFV) Eligibility  130443 non-null  object \n",
      " 10  Electric Range                                     130443 non-null  int64  \n",
      " 11  Base MSRP                                          130443 non-null  int64  \n",
      " 12  Legislative District                               130138 non-null  float64\n",
      " 13  DOL Vehicle ID                                     130443 non-null  int64  \n",
      " 14  Vehicle Location                                   130410 non-null  object \n",
      " 15  Electric Utility                                   130440 non-null  object \n",
      " 16  2020 Census Tract                                  130440 non-null  float64\n",
      "dtypes: float64(3), int64(4), object(10)\n",
      "memory usage: 16.9+ MB\n"
     ]
    }
   ],
   "source": [
    "df.info()"
   ]
  },
  {
   "cell_type": "code",
   "execution_count": 7,
   "id": "a5dfa917",
   "metadata": {},
   "outputs": [
    {
     "data": {
      "text/plain": [
       "VIN (1-10)                                             0\n",
       "County                                                 3\n",
       "City                                                   3\n",
       "State                                                  0\n",
       "Postal Code                                            3\n",
       "Model Year                                             0\n",
       "Make                                                   0\n",
       "Model                                                222\n",
       "Electric Vehicle Type                                  0\n",
       "Clean Alternative Fuel Vehicle (CAFV) Eligibility      0\n",
       "Electric Range                                         0\n",
       "Base MSRP                                              0\n",
       "Legislative District                                 305\n",
       "DOL Vehicle ID                                         0\n",
       "Vehicle Location                                      33\n",
       "Electric Utility                                       3\n",
       "2020 Census Tract                                      3\n",
       "dtype: int64"
      ]
     },
     "execution_count": 7,
     "metadata": {},
     "output_type": "execute_result"
    }
   ],
   "source": [
    "df.isnull().sum()"
   ]
  },
  {
   "cell_type": "code",
   "execution_count": 8,
   "id": "d39745cf",
   "metadata": {},
   "outputs": [],
   "source": [
    "# Dropping Uncessary Columns:\n",
    "df.drop(columns=['Legislative District', 'Vehicle Location', '2020 Census Tract', 'Electric Utility', 'VIN (1-10)'], inplace=True)"
   ]
  },
  {
   "cell_type": "code",
   "execution_count": 9,
   "id": "5c4aa7e7",
   "metadata": {},
   "outputs": [
    {
     "data": {
      "text/plain": [
       "County                                                 3\n",
       "City                                                   3\n",
       "State                                                  0\n",
       "Postal Code                                            3\n",
       "Model Year                                             0\n",
       "Make                                                   0\n",
       "Model                                                222\n",
       "Electric Vehicle Type                                  0\n",
       "Clean Alternative Fuel Vehicle (CAFV) Eligibility      0\n",
       "Electric Range                                         0\n",
       "Base MSRP                                              0\n",
       "DOL Vehicle ID                                         0\n",
       "dtype: int64"
      ]
     },
     "execution_count": 9,
     "metadata": {},
     "output_type": "execute_result"
    }
   ],
   "source": [
    "df.isnull().sum()"
   ]
  },
  {
   "cell_type": "code",
   "execution_count": 10,
   "id": "9afc8d23",
   "metadata": {},
   "outputs": [],
   "source": [
    "df.fillna(0, inplace=True)"
   ]
  },
  {
   "cell_type": "code",
   "execution_count": 11,
   "id": "c7f332d8",
   "metadata": {},
   "outputs": [
    {
     "data": {
      "text/plain": [
       "County                                               0\n",
       "City                                                 0\n",
       "State                                                0\n",
       "Postal Code                                          0\n",
       "Model Year                                           0\n",
       "Make                                                 0\n",
       "Model                                                0\n",
       "Electric Vehicle Type                                0\n",
       "Clean Alternative Fuel Vehicle (CAFV) Eligibility    0\n",
       "Electric Range                                       0\n",
       "Base MSRP                                            0\n",
       "DOL Vehicle ID                                       0\n",
       "dtype: int64"
      ]
     },
     "execution_count": 11,
     "metadata": {},
     "output_type": "execute_result"
    }
   ],
   "source": [
    "df.isnull().sum()"
   ]
  },
  {
   "cell_type": "code",
   "execution_count": 12,
   "id": "eb357fd8",
   "metadata": {},
   "outputs": [
    {
     "data": {
      "text/plain": [
       "Index(['County', 'City', 'State', 'Postal Code', 'Model Year', 'Make', 'Model',\n",
       "       'Electric Vehicle Type',\n",
       "       'Clean Alternative Fuel Vehicle (CAFV) Eligibility', 'Electric Range',\n",
       "       'Base MSRP', 'DOL Vehicle ID'],\n",
       "      dtype='object')"
      ]
     },
     "execution_count": 12,
     "metadata": {},
     "output_type": "execute_result"
    }
   ],
   "source": [
    "df.columns"
   ]
  },
  {
   "cell_type": "markdown",
   "id": "6db29087",
   "metadata": {},
   "source": [
    "**Insights to be drawn -**\n",
    "\n",
    "- Get all the cars and their types that do not qualify for clean alternative fuel vehicle\n",
    "- Get all TESLA cars with the model year, and model type made in Bothell City.\n",
    "- Get all the cars that have an electric range of more than 100, and were made after 2015\n",
    "- Draw plots to show the distribution between city and electric vehicle type"
   ]
  },
  {
   "cell_type": "markdown",
   "id": "bcdc1229",
   "metadata": {},
   "source": [
    "# 1. Get all the cars and their types that do not qualify for clean alternative fuel vehicle:"
   ]
  },
  {
   "cell_type": "code",
   "execution_count": 13,
   "id": "6f623f7d",
   "metadata": {},
   "outputs": [
    {
     "data": {
      "text/plain": [
       "array(['Clean Alternative Fuel Vehicle Eligible',\n",
       "       'Not eligible due to low battery range',\n",
       "       'Eligibility unknown as battery range has not been researched'],\n",
       "      dtype=object)"
      ]
     },
     "execution_count": 13,
     "metadata": {},
     "output_type": "execute_result"
    }
   ],
   "source": [
    "df['Clean Alternative Fuel Vehicle (CAFV) Eligibility'].unique()"
   ]
  },
  {
   "cell_type": "code",
   "execution_count": 14,
   "id": "20015ce3",
   "metadata": {},
   "outputs": [],
   "source": [
    "filtered_df = df[df['Clean Alternative Fuel Vehicle (CAFV) Eligibility'].isin(['Not eligible due to low battery range', 'Eligibility unknown as battery range has not been researched'])]"
   ]
  },
  {
   "cell_type": "code",
   "execution_count": 15,
   "id": "9470a7d6",
   "metadata": {},
   "outputs": [
    {
     "data": {
      "text/plain": [
       "array(['Not eligible due to low battery range',\n",
       "       'Eligibility unknown as battery range has not been researched'],\n",
       "      dtype=object)"
      ]
     },
     "execution_count": 15,
     "metadata": {},
     "output_type": "execute_result"
    }
   ],
   "source": [
    "filtered_df['Clean Alternative Fuel Vehicle (CAFV) Eligibility'].unique()"
   ]
  },
  {
   "cell_type": "code",
   "execution_count": 16,
   "id": "64bf700b",
   "metadata": {},
   "outputs": [
    {
     "data": {
      "text/html": [
       "<div>\n",
       "<style scoped>\n",
       "    .dataframe tbody tr th:only-of-type {\n",
       "        vertical-align: middle;\n",
       "    }\n",
       "\n",
       "    .dataframe tbody tr th {\n",
       "        vertical-align: top;\n",
       "    }\n",
       "\n",
       "    .dataframe thead th {\n",
       "        text-align: right;\n",
       "    }\n",
       "</style>\n",
       "<table border=\"1\" class=\"dataframe\">\n",
       "  <thead>\n",
       "    <tr style=\"text-align: right;\">\n",
       "      <th></th>\n",
       "      <th>Model</th>\n",
       "      <th>Electric Vehicle Type</th>\n",
       "    </tr>\n",
       "  </thead>\n",
       "  <tbody>\n",
       "    <tr>\n",
       "      <th>6</th>\n",
       "      <td>FUSION</td>\n",
       "      <td>Plug-in Hybrid Electric Vehicle (PHEV)</td>\n",
       "    </tr>\n",
       "    <tr>\n",
       "      <th>7</th>\n",
       "      <td>Q5 E</td>\n",
       "      <td>Plug-in Hybrid Electric Vehicle (PHEV)</td>\n",
       "    </tr>\n",
       "    <tr>\n",
       "      <th>8</th>\n",
       "      <td>C-MAX</td>\n",
       "      <td>Plug-in Hybrid Electric Vehicle (PHEV)</td>\n",
       "    </tr>\n",
       "    <tr>\n",
       "      <th>11</th>\n",
       "      <td>MODEL Y</td>\n",
       "      <td>Battery Electric Vehicle (BEV)</td>\n",
       "    </tr>\n",
       "    <tr>\n",
       "      <th>14</th>\n",
       "      <td>C-MAX</td>\n",
       "      <td>Plug-in Hybrid Electric Vehicle (PHEV)</td>\n",
       "    </tr>\n",
       "    <tr>\n",
       "      <th>...</th>\n",
       "      <td>...</td>\n",
       "      <td>...</td>\n",
       "    </tr>\n",
       "    <tr>\n",
       "      <th>130437</th>\n",
       "      <td>530E</td>\n",
       "      <td>Plug-in Hybrid Electric Vehicle (PHEV)</td>\n",
       "    </tr>\n",
       "    <tr>\n",
       "      <th>130438</th>\n",
       "      <td>MODEL Y</td>\n",
       "      <td>Battery Electric Vehicle (BEV)</td>\n",
       "    </tr>\n",
       "    <tr>\n",
       "      <th>130439</th>\n",
       "      <td>LEAF</td>\n",
       "      <td>Battery Electric Vehicle (BEV)</td>\n",
       "    </tr>\n",
       "    <tr>\n",
       "      <th>130440</th>\n",
       "      <td>MODEL Y</td>\n",
       "      <td>Battery Electric Vehicle (BEV)</td>\n",
       "    </tr>\n",
       "    <tr>\n",
       "      <th>130442</th>\n",
       "      <td>MODEL 3</td>\n",
       "      <td>Battery Electric Vehicle (BEV)</td>\n",
       "    </tr>\n",
       "  </tbody>\n",
       "</table>\n",
       "<p>69892 rows × 2 columns</p>\n",
       "</div>"
      ],
      "text/plain": [
       "          Model                   Electric Vehicle Type\n",
       "6        FUSION  Plug-in Hybrid Electric Vehicle (PHEV)\n",
       "7          Q5 E  Plug-in Hybrid Electric Vehicle (PHEV)\n",
       "8         C-MAX  Plug-in Hybrid Electric Vehicle (PHEV)\n",
       "11      MODEL Y          Battery Electric Vehicle (BEV)\n",
       "14        C-MAX  Plug-in Hybrid Electric Vehicle (PHEV)\n",
       "...         ...                                     ...\n",
       "130437     530E  Plug-in Hybrid Electric Vehicle (PHEV)\n",
       "130438  MODEL Y          Battery Electric Vehicle (BEV)\n",
       "130439     LEAF          Battery Electric Vehicle (BEV)\n",
       "130440  MODEL Y          Battery Electric Vehicle (BEV)\n",
       "130442  MODEL 3          Battery Electric Vehicle (BEV)\n",
       "\n",
       "[69892 rows x 2 columns]"
      ]
     },
     "execution_count": 16,
     "metadata": {},
     "output_type": "execute_result"
    }
   ],
   "source": [
    "# Cars and their types that do not qualify for clean alternative fuel vehicle\n",
    "ans_1 = filtered_df[['Model', 'Electric Vehicle Type']]\n",
    "ans_1"
   ]
  },
  {
   "cell_type": "markdown",
   "id": "72fa606c",
   "metadata": {},
   "source": [
    "# 2. Get all TESLA cars with the model year, and model type made in Bothell City."
   ]
  },
  {
   "cell_type": "code",
   "execution_count": 17,
   "id": "afbc427d",
   "metadata": {},
   "outputs": [],
   "source": [
    "#df['City'].unique()"
   ]
  },
  {
   "cell_type": "code",
   "execution_count": 18,
   "id": "4c7c140b",
   "metadata": {},
   "outputs": [
    {
     "data": {
      "text/html": [
       "<div>\n",
       "<style scoped>\n",
       "    .dataframe tbody tr th:only-of-type {\n",
       "        vertical-align: middle;\n",
       "    }\n",
       "\n",
       "    .dataframe tbody tr th {\n",
       "        vertical-align: top;\n",
       "    }\n",
       "\n",
       "    .dataframe thead th {\n",
       "        text-align: right;\n",
       "    }\n",
       "</style>\n",
       "<table border=\"1\" class=\"dataframe\">\n",
       "  <thead>\n",
       "    <tr style=\"text-align: right;\">\n",
       "      <th></th>\n",
       "      <th>Make</th>\n",
       "      <th>Model</th>\n",
       "      <th>Model Year</th>\n",
       "      <th>Electric Vehicle Type</th>\n",
       "      <th>City</th>\n",
       "    </tr>\n",
       "  </thead>\n",
       "  <tbody>\n",
       "    <tr>\n",
       "      <th>39</th>\n",
       "      <td>TESLA</td>\n",
       "      <td>MODEL 3</td>\n",
       "      <td>2020</td>\n",
       "      <td>Battery Electric Vehicle (BEV)</td>\n",
       "      <td>Bothell</td>\n",
       "    </tr>\n",
       "    <tr>\n",
       "      <th>217</th>\n",
       "      <td>TESLA</td>\n",
       "      <td>MODEL 3</td>\n",
       "      <td>2022</td>\n",
       "      <td>Battery Electric Vehicle (BEV)</td>\n",
       "      <td>Bothell</td>\n",
       "    </tr>\n",
       "    <tr>\n",
       "      <th>218</th>\n",
       "      <td>TESLA</td>\n",
       "      <td>MODEL Y</td>\n",
       "      <td>2022</td>\n",
       "      <td>Battery Electric Vehicle (BEV)</td>\n",
       "      <td>Bothell</td>\n",
       "    </tr>\n",
       "    <tr>\n",
       "      <th>222</th>\n",
       "      <td>TESLA</td>\n",
       "      <td>MODEL 3</td>\n",
       "      <td>2018</td>\n",
       "      <td>Battery Electric Vehicle (BEV)</td>\n",
       "      <td>Bothell</td>\n",
       "    </tr>\n",
       "    <tr>\n",
       "      <th>292</th>\n",
       "      <td>TESLA</td>\n",
       "      <td>MODEL X</td>\n",
       "      <td>2017</td>\n",
       "      <td>Battery Electric Vehicle (BEV)</td>\n",
       "      <td>Bothell</td>\n",
       "    </tr>\n",
       "    <tr>\n",
       "      <th>...</th>\n",
       "      <td>...</td>\n",
       "      <td>...</td>\n",
       "      <td>...</td>\n",
       "      <td>...</td>\n",
       "      <td>...</td>\n",
       "    </tr>\n",
       "    <tr>\n",
       "      <th>129778</th>\n",
       "      <td>TESLA</td>\n",
       "      <td>MODEL 3</td>\n",
       "      <td>2019</td>\n",
       "      <td>Battery Electric Vehicle (BEV)</td>\n",
       "      <td>Bothell</td>\n",
       "    </tr>\n",
       "    <tr>\n",
       "      <th>129954</th>\n",
       "      <td>TESLA</td>\n",
       "      <td>MODEL 3</td>\n",
       "      <td>2021</td>\n",
       "      <td>Battery Electric Vehicle (BEV)</td>\n",
       "      <td>Bothell</td>\n",
       "    </tr>\n",
       "    <tr>\n",
       "      <th>129976</th>\n",
       "      <td>TESLA</td>\n",
       "      <td>MODEL S</td>\n",
       "      <td>2014</td>\n",
       "      <td>Battery Electric Vehicle (BEV)</td>\n",
       "      <td>Bothell</td>\n",
       "    </tr>\n",
       "    <tr>\n",
       "      <th>130295</th>\n",
       "      <td>TESLA</td>\n",
       "      <td>MODEL 3</td>\n",
       "      <td>2022</td>\n",
       "      <td>Battery Electric Vehicle (BEV)</td>\n",
       "      <td>Bothell</td>\n",
       "    </tr>\n",
       "    <tr>\n",
       "      <th>130392</th>\n",
       "      <td>TESLA</td>\n",
       "      <td>MODEL 3</td>\n",
       "      <td>2018</td>\n",
       "      <td>Battery Electric Vehicle (BEV)</td>\n",
       "      <td>Bothell</td>\n",
       "    </tr>\n",
       "  </tbody>\n",
       "</table>\n",
       "<p>2407 rows × 5 columns</p>\n",
       "</div>"
      ],
      "text/plain": [
       "         Make    Model  Model Year           Electric Vehicle Type     City\n",
       "39      TESLA  MODEL 3        2020  Battery Electric Vehicle (BEV)  Bothell\n",
       "217     TESLA  MODEL 3        2022  Battery Electric Vehicle (BEV)  Bothell\n",
       "218     TESLA  MODEL Y        2022  Battery Electric Vehicle (BEV)  Bothell\n",
       "222     TESLA  MODEL 3        2018  Battery Electric Vehicle (BEV)  Bothell\n",
       "292     TESLA  MODEL X        2017  Battery Electric Vehicle (BEV)  Bothell\n",
       "...       ...      ...         ...                             ...      ...\n",
       "129778  TESLA  MODEL 3        2019  Battery Electric Vehicle (BEV)  Bothell\n",
       "129954  TESLA  MODEL 3        2021  Battery Electric Vehicle (BEV)  Bothell\n",
       "129976  TESLA  MODEL S        2014  Battery Electric Vehicle (BEV)  Bothell\n",
       "130295  TESLA  MODEL 3        2022  Battery Electric Vehicle (BEV)  Bothell\n",
       "130392  TESLA  MODEL 3        2018  Battery Electric Vehicle (BEV)  Bothell\n",
       "\n",
       "[2407 rows x 5 columns]"
      ]
     },
     "execution_count": 18,
     "metadata": {},
     "output_type": "execute_result"
    }
   ],
   "source": [
    "# All TESLA cars with the model year, and model type made in Bothell City\n",
    "ans_2 = df[(df['City'] == 'Bothell') & (df['Make'] == 'TESLA')][['Make','Model', 'Model Year', 'Electric Vehicle Type', 'City']]\n",
    "ans_2"
   ]
  },
  {
   "cell_type": "markdown",
   "id": "512a2c92",
   "metadata": {},
   "source": [
    "# 3. Get all the cars that have an electric range of more than 100, and were made after 2015"
   ]
  },
  {
   "cell_type": "code",
   "execution_count": 19,
   "id": "55f2ed23",
   "metadata": {},
   "outputs": [
    {
     "data": {
      "text/html": [
       "<div>\n",
       "<style scoped>\n",
       "    .dataframe tbody tr th:only-of-type {\n",
       "        vertical-align: middle;\n",
       "    }\n",
       "\n",
       "    .dataframe tbody tr th {\n",
       "        vertical-align: top;\n",
       "    }\n",
       "\n",
       "    .dataframe thead th {\n",
       "        text-align: right;\n",
       "    }\n",
       "</style>\n",
       "<table border=\"1\" class=\"dataframe\">\n",
       "  <thead>\n",
       "    <tr style=\"text-align: right;\">\n",
       "      <th></th>\n",
       "      <th>Make</th>\n",
       "      <th>Model</th>\n",
       "      <th>Electric Range</th>\n",
       "    </tr>\n",
       "  </thead>\n",
       "  <tbody>\n",
       "    <tr>\n",
       "      <th>0</th>\n",
       "      <td>TESLA</td>\n",
       "      <td>MODEL X</td>\n",
       "      <td>238</td>\n",
       "    </tr>\n",
       "    <tr>\n",
       "      <th>2</th>\n",
       "      <td>TESLA</td>\n",
       "      <td>MODEL 3</td>\n",
       "      <td>220</td>\n",
       "    </tr>\n",
       "    <tr>\n",
       "      <th>4</th>\n",
       "      <td>TESLA</td>\n",
       "      <td>MODEL S</td>\n",
       "      <td>210</td>\n",
       "    </tr>\n",
       "    <tr>\n",
       "      <th>12</th>\n",
       "      <td>TESLA</td>\n",
       "      <td>MODEL 3</td>\n",
       "      <td>308</td>\n",
       "    </tr>\n",
       "    <tr>\n",
       "      <th>13</th>\n",
       "      <td>TESLA</td>\n",
       "      <td>MODEL 3</td>\n",
       "      <td>322</td>\n",
       "    </tr>\n",
       "    <tr>\n",
       "      <th>...</th>\n",
       "      <td>...</td>\n",
       "      <td>...</td>\n",
       "      <td>...</td>\n",
       "    </tr>\n",
       "    <tr>\n",
       "      <th>130417</th>\n",
       "      <td>TESLA</td>\n",
       "      <td>MODEL Y</td>\n",
       "      <td>291</td>\n",
       "    </tr>\n",
       "    <tr>\n",
       "      <th>130428</th>\n",
       "      <td>NISSAN</td>\n",
       "      <td>LEAF</td>\n",
       "      <td>151</td>\n",
       "    </tr>\n",
       "    <tr>\n",
       "      <th>130432</th>\n",
       "      <td>TESLA</td>\n",
       "      <td>MODEL Y</td>\n",
       "      <td>291</td>\n",
       "    </tr>\n",
       "    <tr>\n",
       "      <th>130436</th>\n",
       "      <td>TESLA</td>\n",
       "      <td>MODEL 3</td>\n",
       "      <td>215</td>\n",
       "    </tr>\n",
       "    <tr>\n",
       "      <th>130441</th>\n",
       "      <td>TESLA</td>\n",
       "      <td>MODEL X</td>\n",
       "      <td>293</td>\n",
       "    </tr>\n",
       "  </tbody>\n",
       "</table>\n",
       "<p>34066 rows × 3 columns</p>\n",
       "</div>"
      ],
      "text/plain": [
       "          Make    Model  Electric Range\n",
       "0        TESLA  MODEL X             238\n",
       "2        TESLA  MODEL 3             220\n",
       "4        TESLA  MODEL S             210\n",
       "12       TESLA  MODEL 3             308\n",
       "13       TESLA  MODEL 3             322\n",
       "...        ...      ...             ...\n",
       "130417   TESLA  MODEL Y             291\n",
       "130428  NISSAN     LEAF             151\n",
       "130432   TESLA  MODEL Y             291\n",
       "130436   TESLA  MODEL 3             215\n",
       "130441   TESLA  MODEL X             293\n",
       "\n",
       "[34066 rows x 3 columns]"
      ]
     },
     "execution_count": 19,
     "metadata": {},
     "output_type": "execute_result"
    }
   ],
   "source": [
    "ans_3 = df[(df['Model Year'] > 2015) & (df['Electric Range'] > 100)][['Make','Model','Electric Range']]\n",
    "ans_3"
   ]
  },
  {
   "cell_type": "markdown",
   "id": "e20eabf4",
   "metadata": {},
   "source": [
    "# 4. Draw plots to show the distribution between city and electric vehicle type"
   ]
  },
  {
   "cell_type": "code",
   "execution_count": 20,
   "id": "945102d7",
   "metadata": {},
   "outputs": [
    {
     "data": {
      "text/html": [
       "<div>\n",
       "<style scoped>\n",
       "    .dataframe tbody tr th:only-of-type {\n",
       "        vertical-align: middle;\n",
       "    }\n",
       "\n",
       "    .dataframe tbody tr th {\n",
       "        vertical-align: top;\n",
       "    }\n",
       "\n",
       "    .dataframe thead th {\n",
       "        text-align: right;\n",
       "    }\n",
       "</style>\n",
       "<table border=\"1\" class=\"dataframe\">\n",
       "  <thead>\n",
       "    <tr style=\"text-align: right;\">\n",
       "      <th>Electric Vehicle Type</th>\n",
       "      <th>Battery Electric Vehicle (BEV)</th>\n",
       "      <th>Plug-in Hybrid Electric Vehicle (PHEV)</th>\n",
       "    </tr>\n",
       "    <tr>\n",
       "      <th>City</th>\n",
       "      <th></th>\n",
       "      <th></th>\n",
       "    </tr>\n",
       "  </thead>\n",
       "  <tbody>\n",
       "    <tr>\n",
       "      <th>0</th>\n",
       "      <td>3.0</td>\n",
       "      <td>NaN</td>\n",
       "    </tr>\n",
       "    <tr>\n",
       "      <th>Aberdeen</th>\n",
       "      <td>73.0</td>\n",
       "      <td>42.0</td>\n",
       "    </tr>\n",
       "    <tr>\n",
       "      <th>Acme</th>\n",
       "      <td>3.0</td>\n",
       "      <td>4.0</td>\n",
       "    </tr>\n",
       "    <tr>\n",
       "      <th>Addy</th>\n",
       "      <td>1.0</td>\n",
       "      <td>1.0</td>\n",
       "    </tr>\n",
       "    <tr>\n",
       "      <th>Aiea</th>\n",
       "      <td>NaN</td>\n",
       "      <td>1.0</td>\n",
       "    </tr>\n",
       "  </tbody>\n",
       "</table>\n",
       "</div>"
      ],
      "text/plain": [
       "Electric Vehicle Type  Battery Electric Vehicle (BEV)  \\\n",
       "City                                                    \n",
       "0                                                 3.0   \n",
       "Aberdeen                                         73.0   \n",
       "Acme                                              3.0   \n",
       "Addy                                              1.0   \n",
       "Aiea                                              NaN   \n",
       "\n",
       "Electric Vehicle Type  Plug-in Hybrid Electric Vehicle (PHEV)  \n",
       "City                                                           \n",
       "0                                                         NaN  \n",
       "Aberdeen                                                 42.0  \n",
       "Acme                                                      4.0  \n",
       "Addy                                                      1.0  \n",
       "Aiea                                                      1.0  "
      ]
     },
     "execution_count": 20,
     "metadata": {},
     "output_type": "execute_result"
    }
   ],
   "source": [
    "# Count the number of occurrences of each combination of city and electric vehicle type\n",
    "count_df = df.groupby(['City', 'Electric Vehicle Type']).size().unstack()\n",
    "count_df.head()"
   ]
  },
  {
   "cell_type": "code",
   "execution_count": 21,
   "id": "f73498d1",
   "metadata": {},
   "outputs": [
    {
     "data": {
      "text/plain": [
       "<Figure size 720x23652 with 0 Axes>"
      ]
     },
     "metadata": {},
     "output_type": "display_data"
    },
    {
     "data": {
      "image/png": "[encoded data removed]",
      "text/plain": [
       "<Figure size 432x288 with 1 Axes>"
      ]
     },
     "metadata": {
      "needs_background": "light"
     },
     "output_type": "display_data"
    }
   ],
   "source": [
    "# Plot a stacked area plot\n",
    "plt.figure(figsize=(10, count_df.shape[0]*0.5)) \n",
    "count_df.plot.barh(stacked=True)\n",
    "plt.ylabel('City')\n",
    "plt.xlabel('Count')\n",
    "plt.title('Distribution of Electric Vehicle Types by City')\n",
    "plt.legend(title='Electric Vehicle Type')\n",
    "plt.tight_layout()  # Adjusts the spacing between subplots to prevent labels from overlapping\n",
    "plt.show()"
   ]
  },
  {
   "cell_type": "code",
   "execution_count": null,
   "id": "6e4c7aaa",
   "metadata": {},
   "outputs": [],
   "source": []
  },
  {
   "cell_type": "code",
   "execution_count": null,
   "id": "f35bc26d",
   "metadata": {},
   "outputs": [],
   "source": []
  },
  {
   "cell_type": "code",
   "execution_count": null,
   "id": "d52977f5",
   "metadata": {},
   "outputs": [],
   "source": []
  },
  {
   "cell_type": "code",
   "execution_count": null,
   "id": "e1e3679e",
   "metadata": {},
   "outputs": [],
   "source": []
  },
  {
   "cell_type": "code",
   "execution_count": null,
   "id": "6cb51f8b",
   "metadata": {},
   "outputs": [],
   "source": []
  },
  {
   "cell_type": "code",
   "execution_count": null,
   "id": "7a642a6e",
   "metadata": {},
   "outputs": [],
   "source": []
  },
  {
   "cell_type": "code",
   "execution_count": null,
   "id": "16858d55",
   "metadata": {},
   "outputs": [],
   "source": []
  },
  {
   "cell_type": "code",
   "execution_count": null,
   "id": "ae702a0b",
   "metadata": {},
   "outputs": [],
   "source": []
  },
  {
   "cell_type": "code",
   "execution_count": null,
   "id": "78c84860",
   "metadata": {},
   "outputs": [],
   "source": []
  },
  {
   "cell_type": "code",
   "execution_count": null,
   "id": "529ce5a9",
   "metadata": {},
   "outputs": [],
   "source": []
  },
  {
   "cell_type": "code",
   "execution_count": null,
   "id": "e8273ae5",
   "metadata": {},
   "outputs": [],
   "source": []
  },
  {
   "cell_type": "code",
   "execution_count": null,
   "id": "bb0c3eb1",
   "metadata": {},
   "outputs": [],
   "source": []
  },
  {
   "cell_type": "code",
   "execution_count": null,
   "id": "b40a8169",
   "metadata": {},
   "outputs": [],
   "source": []
  },
  {
   "cell_type": "code",
   "execution_count": null,
   "id": "b1a78f90",
   "metadata": {},
   "outputs": [],
   "source": []
  },
  {
   "cell_type": "code",
   "execution_count": null,
   "id": "276b3a86",
   "metadata": {},
   "outputs": [],
   "source": []
  }
 ],
 "metadata": {
  "kernelspec": {
   "display_name": "Python 3",
   "language": "python",
   "name": "python3"
  },
  "language_info": {
   "codemirror_mode": {
    "name": "ipython",
    "version": 3
   },
   "file_extension": ".py",
   "mimetype": "text/x-python",
   "name": "python",
   "nbconvert_exporter": "python",
   "pygments_lexer": "ipython3",
   "version": "3.8.8"
  }
 },
 "nbformat": 4,
 "nbformat_minor": 5
}
