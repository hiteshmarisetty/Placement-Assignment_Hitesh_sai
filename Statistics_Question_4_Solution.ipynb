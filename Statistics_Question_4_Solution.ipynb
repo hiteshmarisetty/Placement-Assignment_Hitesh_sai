{
 "cells": [
  {
   "cell_type": "markdown",
   "id": "a9cf5452",
   "metadata": {},
   "source": [
    "**Q-4.** A group of 20 friends decide to play a game in which they each write a number\n",
    "between 1 and 20 on a slip of paper and put it into a hat. They then draw one slip of paper\n",
    "at random. What is the probability that the number on the slip of paper is a perfect square\n",
    "(i.e., 1, 4, 9, or 16)?"
   ]
  },
  {
   "cell_type": "markdown",
   "id": "9213f2cc",
   "metadata": {},
   "source": []
  },
  {
   "cell_type": "markdown",
   "id": "f291c6ae",
   "metadata": {},
   "source": [
    "**Answer:** ==> The probability of drawing a perfect square number from the hat is 0.2 or 20%."
   ]
  },
  {
   "cell_type": "markdown",
   "id": "dcb129d8",
   "metadata": {},
   "source": [
    "explaination clear"
   ]
  },
  {
   "cell_type": "markdown",
   "id": "6f173e41",
   "metadata": {},
   "source": [
    "Answer:)-\n",
    "There are 4 perfect squares between 1 and 20, namely 1, 4, 9, and 16. There are a total of 20 numbers in the hat.\n",
    "\n",
    "P(event) = favorable outcomes / total outcomes\n",
    "\n",
    "P(perfect square) = 4 / 20 = 1/5\n",
    "\n",
    "Therefore, the probability that the number on the slip of paper is a perfect square is 4/20 = 0.2.\n",
    "\n",
    "In other words, there is a 20% chance that the number on the slip of paper is a perfect square."
   ]
  },
  {
   "cell_type": "code",
   "execution_count": null,
   "id": "999ac05d",
   "metadata": {},
   "outputs": [],
   "source": []
  },
  {
   "cell_type": "code",
   "execution_count": null,
   "id": "30aa0967",
   "metadata": {},
   "outputs": [],
   "source": []
  },
  {
   "cell_type": "code",
   "execution_count": null,
   "id": "d389cd24",
   "metadata": {},
   "outputs": [],
   "source": []
  },
  {
   "cell_type": "code",
   "execution_count": null,
   "id": "8b041d14",
   "metadata": {},
   "outputs": [],
   "source": []
  },
  {
   "cell_type": "code",
   "execution_count": null,
   "id": "4a2fd7f4",
   "metadata": {},
   "outputs": [],
   "source": []
  },
  {
   "cell_type": "code",
   "execution_count": null,
   "id": "1f4b33c1",
   "metadata": {},
   "outputs": [],
   "source": []
  },
  {
   "cell_type": "code",
   "execution_count": null,
   "id": "234805dd",
   "metadata": {},
   "outputs": [],
   "source": []
  }
 ],
 "metadata": {
  "kernelspec": {
   "display_name": "Python 3",
   "language": "python",
   "name": "python3"
  },
  "language_info": {
   "codemirror_mode": {
    "name": "ipython",
    "version": 3
   },
   "file_extension": ".py",
   "mimetype": "text/x-python",
   "name": "python",
   "nbconvert_exporter": "python",
   "pygments_lexer": "ipython3",
   "version": "3.8.8"
  }
 },
 "nbformat": 4,
 "nbformat_minor": 5
}
