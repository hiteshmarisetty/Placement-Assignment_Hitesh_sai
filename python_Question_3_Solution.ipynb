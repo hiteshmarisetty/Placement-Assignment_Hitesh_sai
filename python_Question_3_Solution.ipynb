{
 "cells": [
  {
   "cell_type": "markdown",
   "id": "a0789f9e",
   "metadata": {},
   "source": [
    "## Question_3_Solution:"
   ]
  },
  {
   "cell_type": "code",
   "execution_count": 2,
   "id": "16802449",
   "metadata": {},
   "outputs": [
    {
     "name": "stdout",
     "output_type": "stream",
     "text": [
      "Data successfully converted and saved in Excel format.\n"
     ]
    },
    {
     "name": "stderr",
     "output_type": "stream",
     "text": [
      "<ipython-input-2-1c08324a96f8>:16: UserWarning: Pandas requires version '1.4.3' or newer of 'xlsxwriter' (version '1.3.8' currently installed).\n",
      "  data.to_excel(output_file, index=False)\n"
     ]
    }
   ],
   "source": [
    "import pandas as pd\n",
    "import requests\n",
    "\n",
    "url = \"https://raw.githubusercontent.com/Biuni/PokemonGO-Pokedex/master/pokedex.json\"\n",
    "\n",
    "def json_to_excel(url, output_file):\n",
    "    try:\n",
    "        # Fetch the JSON data from the URL\n",
    "        response = requests.get(url)\n",
    "        json_data = response.json()\n",
    "\n",
    "        # Flatten the JSON data into a pandas DataFrame\n",
    "        data = pd.json_normalize(json_data, 'pokemon')\n",
    "\n",
    "        # Saving data in Excel format\n",
    "        data.to_excel(output_file, index=False)\n",
    "\n",
    "        return \"Data successfully converted and saved in Excel format.\"\n",
    "\n",
    "    except Exception as e:\n",
    "        return f\"An error occurred: {str(e)}\"\n",
    "\n",
    "output_file = \"python_Question_3_Solution.xlsx\"  \n",
    "\n",
    "result = json_to_excel(url, output_file)\n",
    "print(result)\n"
   ]
  },
  {
   "cell_type": "code",
   "execution_count": null,
   "id": "8d578ef3",
   "metadata": {},
   "outputs": [],
   "source": []
  },
  {
   "cell_type": "code",
   "execution_count": null,
   "id": "dabf4f6e",
   "metadata": {},
   "outputs": [],
   "source": []
  }
 ],
 "metadata": {
  "kernelspec": {
   "display_name": "Python 3",
   "language": "python",
   "name": "python3"
  },
  "language_info": {
   "codemirror_mode": {
    "name": "ipython",
    "version": 3
   },
   "file_extension": ".py",
   "mimetype": "text/x-python",
   "name": "python",
   "nbconvert_exporter": "python",
   "pygments_lexer": "ipython3",
   "version": "3.8.8"
  }
 },
 "nbformat": 4,
 "nbformat_minor": 5
}
