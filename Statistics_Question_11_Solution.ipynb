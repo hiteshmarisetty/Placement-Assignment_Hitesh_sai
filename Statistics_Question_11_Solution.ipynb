{
 "cells": [
  {
   "cell_type": "markdown",
   "id": "fedfcd1e",
   "metadata": {},
   "source": [
    "**Q-11.** Given the data of a feature contributing to different classes:\n",
    "\n",
    "https://drive.google.com/file/d/1mCjtYHiX--mMUjicuaP2gH3k-SnFxt8Y/view?usp=share_\n",
    "\n",
    "- a. Check whether the distribution of all the classes are the same or not.\n",
    "- b. Check for the equality of variance\n",
    "- c. Which amount LDA and QDA would perform better on this data for classification and why.\n",
    "- d. Check the equality of mean for between all the classes."
   ]
  },
  {
   "cell_type": "code",
   "execution_count": 1,
   "id": "2f8fbfd9",
   "metadata": {},
   "outputs": [],
   "source": [
    "import pandas as pd \n",
    "import numpy as np\n",
    "import seaborn as sns"
   ]
  },
  {
   "cell_type": "code",
   "execution_count": 2,
   "id": "0919ed88",
   "metadata": {},
   "outputs": [
    {
     "data": {
      "text/html": [
       "<div>\n",
       "<style scoped>\n",
       "    .dataframe tbody tr th:only-of-type {\n",
       "        vertical-align: middle;\n",
       "    }\n",
       "\n",
       "    .dataframe tbody tr th {\n",
       "        vertical-align: top;\n",
       "    }\n",
       "\n",
       "    .dataframe thead th {\n",
       "        text-align: right;\n",
       "    }\n",
       "</style>\n",
       "<table border=\"1\" class=\"dataframe\">\n",
       "  <thead>\n",
       "    <tr style=\"text-align: right;\">\n",
       "      <th></th>\n",
       "      <th>Patient ID</th>\n",
       "      <th>Blood Pressure Before (mmHg)</th>\n",
       "      <th>Blood Pressure After (mmHg)</th>\n",
       "    </tr>\n",
       "  </thead>\n",
       "  <tbody>\n",
       "    <tr>\n",
       "      <th>0</th>\n",
       "      <td>1</td>\n",
       "      <td>130</td>\n",
       "      <td>120</td>\n",
       "    </tr>\n",
       "    <tr>\n",
       "      <th>1</th>\n",
       "      <td>2</td>\n",
       "      <td>142</td>\n",
       "      <td>135</td>\n",
       "    </tr>\n",
       "    <tr>\n",
       "      <th>2</th>\n",
       "      <td>3</td>\n",
       "      <td>120</td>\n",
       "      <td>118</td>\n",
       "    </tr>\n",
       "    <tr>\n",
       "      <th>3</th>\n",
       "      <td>4</td>\n",
       "      <td>135</td>\n",
       "      <td>127</td>\n",
       "    </tr>\n",
       "    <tr>\n",
       "      <th>4</th>\n",
       "      <td>5</td>\n",
       "      <td>148</td>\n",
       "      <td>140</td>\n",
       "    </tr>\n",
       "  </tbody>\n",
       "</table>\n",
       "</div>"
      ],
      "text/plain": [
       "   Patient ID   Blood Pressure Before (mmHg)   Blood Pressure After (mmHg)\n",
       "0           1                            130                           120\n",
       "1           2                            142                           135\n",
       "2           3                            120                           118\n",
       "3           4                            135                           127\n",
       "4           5                            148                           140"
      ]
     },
     "execution_count": 2,
     "metadata": {},
     "output_type": "execute_result"
    }
   ],
   "source": [
    "df = pd.read_csv('useful/Q3.csv')\n",
    "df.head()"
   ]
  },
  {
   "cell_type": "code",
   "execution_count": 3,
   "id": "84dd30ed",
   "metadata": {},
   "outputs": [
    {
     "data": {
      "text/plain": [
       "Index(['Patient ID', ' Blood Pressure Before (mmHg)',\n",
       "       ' Blood Pressure After (mmHg)'],\n",
       "      dtype='object')"
      ]
     },
     "execution_count": 3,
     "metadata": {},
     "output_type": "execute_result"
    }
   ],
   "source": [
    "df.columns"
   ]
  },
  {
   "cell_type": "code",
   "execution_count": 4,
   "id": "9806e25d",
   "metadata": {},
   "outputs": [],
   "source": [
    "BP_Before = df[' Blood Pressure Before (mmHg)']\n",
    "BP_After = df[' Blood Pressure After (mmHg)']"
   ]
  },
  {
   "cell_type": "markdown",
   "id": "be7f9e74",
   "metadata": {},
   "source": [
    "### a. Check whether the distribution of all the classes are the same or not."
   ]
  },
  {
   "cell_type": "code",
   "execution_count": 5,
   "id": "4aa39e54",
   "metadata": {},
   "outputs": [
    {
     "ename": "NameError",
     "evalue": "name 'stats' is not defined",
     "output_type": "error",
     "traceback": [
      "\u001b[0;31m---------------------------------------------------------------------------\u001b[0m",
      "\u001b[0;31mNameError\u001b[0m                                 Traceback (most recent call last)",
      "\u001b[0;32m<ipython-input-5-d2ab7d3e65cc>\u001b[0m in \u001b[0;36m<module>\u001b[0;34m\u001b[0m\n\u001b[0;32m----> 1\u001b[0;31m \u001b[0mstats\u001b[0m\u001b[0;34m.\u001b[0m\u001b[0mprobplot\u001b[0m\u001b[0;34m(\u001b[0m\u001b[0mBP_Before\u001b[0m\u001b[0;34m,\u001b[0m \u001b[0mdist\u001b[0m\u001b[0;34m=\u001b[0m\u001b[0;34m\"norm\"\u001b[0m\u001b[0;34m,\u001b[0m \u001b[0mplot\u001b[0m\u001b[0;34m=\u001b[0m\u001b[0mplt\u001b[0m\u001b[0;34m)\u001b[0m\u001b[0;34m\u001b[0m\u001b[0;34m\u001b[0m\u001b[0m\n\u001b[0m\u001b[1;32m      2\u001b[0m \u001b[0mplt\u001b[0m\u001b[0;34m.\u001b[0m\u001b[0mtitle\u001b[0m\u001b[0;34m(\u001b[0m\u001b[0;34m'QQ Plot - Blood Pressure Before'\u001b[0m\u001b[0;34m)\u001b[0m\u001b[0;34m\u001b[0m\u001b[0;34m\u001b[0m\u001b[0m\n\u001b[1;32m      3\u001b[0m \u001b[0mplt\u001b[0m\u001b[0;34m.\u001b[0m\u001b[0mshow\u001b[0m\u001b[0;34m(\u001b[0m\u001b[0;34m)\u001b[0m\u001b[0;34m\u001b[0m\u001b[0;34m\u001b[0m\u001b[0m\n\u001b[1;32m      4\u001b[0m \u001b[0;34m\u001b[0m\u001b[0m\n\u001b[1;32m      5\u001b[0m \u001b[0mstats\u001b[0m\u001b[0;34m.\u001b[0m\u001b[0mprobplot\u001b[0m\u001b[0;34m(\u001b[0m\u001b[0mBP_After\u001b[0m\u001b[0;34m,\u001b[0m \u001b[0mdist\u001b[0m\u001b[0;34m=\u001b[0m\u001b[0;34m\"norm\"\u001b[0m\u001b[0;34m,\u001b[0m \u001b[0mplot\u001b[0m\u001b[0;34m=\u001b[0m\u001b[0mplt\u001b[0m\u001b[0;34m)\u001b[0m\u001b[0;34m\u001b[0m\u001b[0;34m\u001b[0m\u001b[0m\n",
      "\u001b[0;31mNameError\u001b[0m: name 'stats' is not defined"
     ]
    }
   ],
   "source": [
    "stats.probplot(BP_Before, dist=\"norm\", plot=plt)\n",
    "plt.title('QQ Plot - Blood Pressure Before')\n",
    "plt.show()\n",
    "\n",
    "stats.probplot(BP_After, dist=\"norm\", plot=plt)\n",
    "plt.title('QQ Plot - Blood Pressure After')\n",
    "plt.show()"
   ]
  },
  {
   "cell_type": "code",
   "execution_count": null,
   "id": "e1f48806",
   "metadata": {},
   "outputs": [],
   "source": [
    "# Using Chi-Square for testing:\n",
    "from scipy.stats import chi2_contingency\n",
    "\n",
    "# Create the contingency table\n",
    "contingency_table = pd.crosstab(BP_Before, BP_After)\n",
    "\n",
    "# Perform the Chi-Square test\n",
    "chi2, p_value, _, _ = chi2_contingency(contingency_table)\n",
    "\n",
    "print(\"Chi-Square test results:\")\n",
    "print(\"Chi2 statistic:\", chi2)\n",
    "print(\"p-value:\", p_value)\n"
   ]
  },
  {
   "cell_type": "code",
   "execution_count": null,
   "id": "f0c6506a",
   "metadata": {},
   "outputs": [],
   "source": [
    "# Using Kolmogorov-Smirnov Test:\n",
    "from scipy.stats import kstest\n",
    "\n",
    "stat, p_value = kstest(BP_Before, BP_After)\n",
    "print(f\" Kolmogorov-Smirnov Test: statistic={stat:.4f}, p-value={p_value:.4f}\")"
   ]
  },
  {
   "cell_type": "markdown",
   "id": "2dc74ba2",
   "metadata": {},
   "source": [
    "Observation: As p-value results for both the testing methods are < 0.05 ==> The distribution of all the classes are the same."
   ]
  },
  {
   "cell_type": "markdown",
   "id": "2088b01c",
   "metadata": {},
   "source": [
    "### b. Check for the equality of variance"
   ]
  },
  {
   "cell_type": "code",
   "execution_count": 6,
   "id": "d857997f",
   "metadata": {},
   "outputs": [
    {
     "ename": "NameError",
     "evalue": "name 'stats' is not defined",
     "output_type": "error",
     "traceback": [
      "\u001b[0;31m---------------------------------------------------------------------------\u001b[0m",
      "\u001b[0;31mNameError\u001b[0m                                 Traceback (most recent call last)",
      "\u001b[0;32m<ipython-input-6-71ca72c12804>\u001b[0m in \u001b[0;36m<module>\u001b[0;34m\u001b[0m\n\u001b[1;32m      1\u001b[0m \u001b[0;31m# Levene's test\u001b[0m\u001b[0;34m\u001b[0m\u001b[0;34m\u001b[0m\u001b[0;34m\u001b[0m\u001b[0m\n\u001b[0;32m----> 2\u001b[0;31m \u001b[0mstatistic_levene\u001b[0m\u001b[0;34m,\u001b[0m \u001b[0mp_value_levene\u001b[0m \u001b[0;34m=\u001b[0m \u001b[0mstats\u001b[0m\u001b[0;34m.\u001b[0m\u001b[0mlevene\u001b[0m\u001b[0;34m(\u001b[0m\u001b[0mBP_Before\u001b[0m\u001b[0;34m,\u001b[0m \u001b[0mBP_After\u001b[0m\u001b[0;34m)\u001b[0m\u001b[0;34m\u001b[0m\u001b[0;34m\u001b[0m\u001b[0m\n\u001b[0m\u001b[1;32m      3\u001b[0m \u001b[0mprint\u001b[0m\u001b[0;34m(\u001b[0m\u001b[0;34m\"Levene's test - p-value:\"\u001b[0m\u001b[0;34m,\u001b[0m \u001b[0mp_value_levene\u001b[0m\u001b[0;34m)\u001b[0m\u001b[0;34m\u001b[0m\u001b[0;34m\u001b[0m\u001b[0m\n\u001b[1;32m      4\u001b[0m \u001b[0;34m\u001b[0m\u001b[0m\n\u001b[1;32m      5\u001b[0m \u001b[0;31m# Bartlett's test\u001b[0m\u001b[0;34m\u001b[0m\u001b[0;34m\u001b[0m\u001b[0;34m\u001b[0m\u001b[0m\n",
      "\u001b[0;31mNameError\u001b[0m: name 'stats' is not defined"
     ]
    }
   ],
   "source": [
    "# Levene's test\n",
    "statistic_levene, p_value_levene = stats.levene(BP_Before, BP_After)\n",
    "print(\"Levene's test - p-value:\", p_value_levene)\n",
    "\n",
    "# Bartlett's test\n",
    "statistic_bartlett, p_value_bartlett = stats.bartlett(BP_Before, BP_After)\n",
    "print(\"Bartlett's test - p-value:\", p_value_bartlett)\n"
   ]
  },
  {
   "cell_type": "markdown",
   "id": "13eb9b6d",
   "metadata": {},
   "source": [
    "Observation: As p-value > 0.05 ==> it suggests that there is no significant difference in variances between the two groups"
   ]
  },
  {
   "cell_type": "markdown",
   "id": "18f8e42a",
   "metadata": {},
   "source": [
    "### c. Which amount LDA and QDA would perform better on this data for classification and why."
   ]
  },
  {
   "cell_type": "markdown",
   "id": "c770a9e7",
   "metadata": {},
   "source": [
    "- Linear Discriminant Analysis (LDA) and Quadratic Discriminant Analysis (QDA) are classification algorithms that assume the data follows a normal distribution.\n",
    "- A major difference between the two is that LDA assumes the feature covariance matrices of both classes are the same, which results in a linear decision boundary. In contrast, QDA is less strict and allows different feature covariance matrices for different classes, which leads to a quadratic decision boundary.\n",
    "- So, we need to check whether both the classes are having same covariance matrices or not."
   ]
  },
  {
   "cell_type": "code",
   "execution_count": 7,
   "id": "3434e61b",
   "metadata": {},
   "outputs": [
    {
     "name": "stdout",
     "output_type": "stream",
     "text": [
      "The covariance matrices are different.\n"
     ]
    }
   ],
   "source": [
    "# Calculate the covariance matrices\n",
    "covariance_matrix_1 = np.cov(BP_Before, rowvar=False)\n",
    "covariance_matrix_2 = np.cov(BP_After, rowvar=False)\n",
    "\n",
    "# Compare the covariance matrices\n",
    "if np.array_equal(covariance_matrix_1, covariance_matrix_2):\n",
    "    print(\"The covariance matrices are the same.\")\n",
    "else:\n",
    "    print(\"The covariance matrices are different.\")\n"
   ]
  },
  {
   "cell_type": "markdown",
   "id": "a0a32908",
   "metadata": {},
   "source": [
    "Observation: As both the covariance matrices are different. SO QDA performs better than LDA. "
   ]
  },
  {
   "cell_type": "markdown",
   "id": "d08d067e",
   "metadata": {},
   "source": [
    "### d. Check the equality of mean for between all the classes."
   ]
  },
  {
   "cell_type": "code",
   "execution_count": 8,
   "id": "f4c64269",
   "metadata": {},
   "outputs": [
    {
     "name": "stdout",
     "output_type": "stream",
     "text": [
      "There is a significant difference in means between the two classes.\n"
     ]
    }
   ],
   "source": [
    "# Using t-Test:\n",
    "\n",
    "from scipy.stats import ttest_ind\n",
    "\n",
    "statistic, p_value = ttest_ind(BP_Before, BP_After)\n",
    "\n",
    "# Compare p-value to a significance level (0.05)\n",
    "if p_value < 0.05:\n",
    "    print(\"There is a significant difference in means between the two classes.\")\n",
    "else:\n",
    "    print(\"There is no significant difference in means between the two classes.\")\n"
   ]
  },
  {
   "cell_type": "markdown",
   "id": "ddf0bb39",
   "metadata": {},
   "source": [
    "Observation: Means between the two classes are Different"
   ]
  },
  {
   "cell_type": "code",
   "execution_count": null,
   "id": "a027c97a",
   "metadata": {},
   "outputs": [],
   "source": []
  },
  {
   "cell_type": "code",
   "execution_count": null,
   "id": "f26cfa74",
   "metadata": {},
   "outputs": [],
   "source": []
  },
  {
   "cell_type": "code",
   "execution_count": null,
   "id": "d5b72d0c",
   "metadata": {},
   "outputs": [],
   "source": []
  }
 ],
 "metadata": {
  "kernelspec": {
   "display_name": "Python 3",
   "language": "python",
   "name": "python3"
  },
  "language_info": {
   "codemirror_mode": {
    "name": "ipython",
    "version": 3
   },
   "file_extension": ".py",
   "mimetype": "text/x-python",
   "name": "python",
   "nbconvert_exporter": "python",
   "pygments_lexer": "ipython3",
   "version": "3.8.8"
  }
 },
 "nbformat": 4,
 "nbformat_minor": 5
}
