{
 "cells": [
  {
   "cell_type": "markdown",
   "id": "0c8c1a51",
   "metadata": {},
   "source": [
    "##Python Question_1_Solution:"
   ]
  },
  {
   "cell_type": "code",
   "execution_count": 1,
   "id": "16802449",
   "metadata": {},
   "outputs": [
    {
     "name": "stdout",
     "output_type": "stream",
     "text": [
      "highest_frequency_word_length_given_string:  5\n",
      "highest_frequency_word_length_string_1:  6\n",
      "highest_frequency_word_length_string_2:  5\n"
     ]
    }
   ],
   "source": [
    "\n",
    "\n",
    "def get_highest_frequency_word_length(string):\n",
    "    word_frequency = {}\n",
    "    words = string.split()\n",
    "\n",
    "    for word in words:\n",
    "        if word in word_frequency:\n",
    "            word_frequency[word] += 1\n",
    "        else:\n",
    "            word_frequency[word] = 1\n",
    "\n",
    "    highest_frequency = max(word_frequency.values())\n",
    "    highest_frequency_word = [word for word, frequency in word_frequency.items() if frequency == highest_frequency][0]\n",
    "    highest_frequency_word_length = len(highest_frequency_word)\n",
    "\n",
    "    return highest_frequency_word_length\n",
    "\n",
    "# Given Example:\n",
    "\n",
    "string = \"write write write all the number from from from 1 to 100\"\n",
    "result = get_highest_frequency_word_length(string)\n",
    "print(\"highest_frequency_word_length_given_string: \", result)  \n",
    "\n",
    "# Test Cases:\n",
    "\n",
    "string_1 = \"lillee lillee milly kelly silly\" \n",
    "test_1 = get_highest_frequency_word_length(string_1)\n",
    "print(\"highest_frequency_word_length_string_1: \", test_1)\n",
    "\n",
    "\n",
    "string_2 = \"car car car bike shipe shipe shipe shipe\"\n",
    "test_2 = get_highest_frequency_word_length(string_2)\n",
    "print(\"highest_frequency_word_length_string_2: \", test_2)"
   ]
  },
  {
   "cell_type": "markdown",
   "id": "26018370",
   "metadata": {},
   "source": []
  },
  {
   "cell_type": "code",
   "execution_count": null,
   "id": "3c484d79",
   "metadata": {},
   "outputs": [],
   "source": []
  }
 ],
 "metadata": {
  "kernelspec": {
   "display_name": "Python 3",
   "language": "python",
   "name": "python3"
  },
  "language_info": {
   "codemirror_mode": {
    "name": "ipython",
    "version": 3
   },
   "file_extension": ".py",
   "mimetype": "text/x-python",
   "name": "python",
   "nbconvert_exporter": "python",
   "pygments_lexer": "ipython3",
   "version": "3.8.8"
  }
 },
 "nbformat": 4,
 "nbformat_minor": 5
}
