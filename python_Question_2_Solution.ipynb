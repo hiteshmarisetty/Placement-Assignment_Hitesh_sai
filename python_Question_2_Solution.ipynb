{
 "cells": [
  {
   "cell_type": "markdown",
   "id": "a4b92236",
   "metadata": {},
   "source": [
    "## python Question_2_Solution:"
   ]
  },
  {
   "cell_type": "markdown",
   "id": "de974242",
   "metadata": {},
   "source": [
    "Consider a string to be valid if all characters of the string appear the same number of times. It is also valid if\n",
    "he can remove just one character at the index in the string, and the remaining characters will occur the same\n",
    "number of times. Given a string, determine if it is valid. If so, return YES , otherwise return NO .\n",
    "Note - You have to write at least 2 additional test cases in which your program will run successfully and provide\n",
    "an explanation for the same.\n",
    "Example input 1 - s = “abc”. This is a valid string because frequencies are { “a”: 1, “b”: 1, “c”: 1 }\n",
    "Example output 1- YES\n",
    "Example input 2 - s “abcc”. This string is not valid as we can remove only 1 occurrence of “c”. That leaves\n",
    "character frequencies of { “a”: 1, “b”: 1 , “c”: 2 }\n",
    "Example output 2 - NO"
   ]
  },
  {
   "cell_type": "code",
   "execution_count": 1,
   "id": "16802449",
   "metadata": {},
   "outputs": [
    {
     "name": "stdout",
     "output_type": "stream",
     "text": [
      "abc is_valid_string ?  YES\n",
      "abcc is_valid_string ?  NO\n"
     ]
    }
   ],
   "source": [
    "\n",
    "\n",
    "def is_valid_string(s):\n",
    "    freq = {}\n",
    "    for char in s:\n",
    "        if char in freq:\n",
    "            freq[char] += 1\n",
    "        else:\n",
    "            freq[char] = 1\n",
    "    values = list(freq.values())\n",
    "    values.sort()\n",
    "    unique_values = set(values)\n",
    "    \n",
    "    if len(unique_values) == 1:\n",
    "        return \"YES\"\n",
    "    elif len(unique_values) == 2:\n",
    "        if values.count(values[0]) == 1 and values[0] == 1:\n",
    "            return \"YES\"\n",
    "        elif values.count(values[-1]) == 1 and values[-2] == values[-1] - 1:\n",
    "            return \"NO\"  \n",
    "    \n",
    "    return \"NO\"\n",
    "\n",
    "\n",
    "# Given Examples:\n",
    "string1 = \"abc\"\n",
    "result1 = is_valid_string(string1)\n",
    "print('abc','is_valid_string ? ',result1)  \n",
    "\n",
    "string2 = \"abcc\"\n",
    "result2 = is_valid_string(string2)\n",
    "print('abcc','is_valid_string ? ',result2) "
   ]
  },
  {
   "cell_type": "code",
   "execution_count": 2,
   "id": "4fbcc66b",
   "metadata": {},
   "outputs": [
    {
     "name": "stdout",
     "output_type": "stream",
     "text": [
      "aabbcc is_valid_string ?  YES\n",
      "aabbccc is_valid_string ?  NO\n"
     ]
    }
   ],
   "source": [
    "string3 = \"aabbcc\"\n",
    "result3 = is_valid_string(string3)\n",
    "print('aabbcc','is_valid_string ? ',result3)  \n",
    "\n",
    "string4 = \"aabbbccc\"\n",
    "result4 = is_valid_string(string4)\n",
    "print('aabbccc','is_valid_string ? ',result4) "
   ]
  },
  {
   "cell_type": "markdown",
   "id": "6cdf4ecb",
   "metadata": {},
   "source": []
  },
  {
   "cell_type": "code",
   "execution_count": null,
   "id": "fe49b852",
   "metadata": {},
   "outputs": [],
   "source": []
  }
 ],
 "metadata": {
  "kernelspec": {
   "display_name": "Python 3",
   "language": "python",
   "name": "python3"
  },
  "language_info": {
   "codemirror_mode": {
    "name": "ipython",
    "version": 3
   },
   "file_extension": ".py",
   "mimetype": "text/x-python",
   "name": "python",
   "nbconvert_exporter": "python",
   "pygments_lexer": "ipython3",
   "version": "3.8.8"
  }
 },
 "nbformat": 4,
 "nbformat_minor": 5
}
